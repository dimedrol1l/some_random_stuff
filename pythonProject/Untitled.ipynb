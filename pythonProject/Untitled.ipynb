{
 "cells": [
  {
   "cell_type": "code",
   "execution_count": null,
   "id": "5ebc652e-4f88-4b15-9ccc-20db304e3906",
   "metadata": {},
   "outputs": [],
   "source": [
    "print (\"he\")"
   ]
  },
  {
   "cell_type": "raw",
   "id": "d4c35f56-0cf3-49c7-8114-a850bcc221da",
   "metadata": {},
   "source": []
  },
  {
   "cell_type": "code",
   "execution_count": null,
   "id": "10c14f24-f072-41d2-adc7-0b746d3b1753",
   "metadata": {},
   "outputs": [],
   "source": []
  },
  {
   "cell_type": "code",
   "execution_count": null,
   "id": "5c8d4c2b-88cc-491b-a120-fafbbabd780b",
   "metadata": {},
   "outputs": [],
   "source": []
  }
 ],
 "metadata": {
  "kernelspec": {
   "display_name": "Python 3 (ipykernel)",
   "language": "python",
   "name": "python3"
  },
  "language_info": {
   "name": ""
  }
 },
 "nbformat": 4,
 "nbformat_minor": 5
}
